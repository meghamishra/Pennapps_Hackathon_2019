{
 "cells": [
  {
   "cell_type": "code",
   "execution_count": 1,
   "metadata": {},
   "outputs": [],
   "source": [
    "import warnings\n",
    "warnings.filterwarnings(\"ignore\")"
   ]
  },
  {
   "cell_type": "code",
   "execution_count": 2,
   "metadata": {},
   "outputs": [],
   "source": [
    "import numpy as np"
   ]
  },
  {
   "cell_type": "code",
   "execution_count": null,
   "metadata": {},
   "outputs": [],
   "source": []
  },
  {
   "cell_type": "code",
   "execution_count": 5,
   "metadata": {},
   "outputs": [
    {
     "name": "stderr",
     "output_type": "stream",
     "text": [
      "fatal: destination path 'embedding-as-service' already exists and is not an empty directory.\n"
     ]
    }
   ],
   "source": [
    "!git clone https://github.com/amansrivastava17/embedding-as-service.git"
   ]
  },
  {
   "cell_type": "code",
   "execution_count": 6,
   "metadata": {},
   "outputs": [
    {
     "name": "stdout",
     "output_type": "stream",
     "text": [
      "C:\\Users\\megha\\Desktop\\anaconda codes\\masters\\others\\hackathon\\embedding-as-service\n"
     ]
    }
   ],
   "source": [
    "cd embedding-as-service/"
   ]
  },
  {
   "cell_type": "code",
   "execution_count": 7,
   "metadata": {},
   "outputs": [
    {
     "name": "stdout",
     "output_type": "stream",
     "text": [
      "Your branch is up-to-date with 'origin/master'.\n"
     ]
    },
    {
     "name": "stderr",
     "output_type": "stream",
     "text": [
      "Already on 'master'\n"
     ]
    }
   ],
   "source": [
    "!git checkout master"
   ]
  },
  {
   "cell_type": "code",
   "execution_count": 8,
   "metadata": {},
   "outputs": [
    {
     "name": "stdout",
     "output_type": "stream",
     "text": [
      "* master\n"
     ]
    }
   ],
   "source": [
    "!git branch"
   ]
  },
  {
   "cell_type": "code",
   "execution_count": 9,
   "metadata": {
    "scrolled": true
   },
   "outputs": [
    {
     "name": "stdout",
     "output_type": "stream",
     "text": [
      "Requirement already satisfied: keras==2.2.4 in c:\\users\\megha\\anaconda3\\lib\\site-packages (from -r requirements.txt (line 1)) (2.2.4)\n",
      "Requirement already satisfied: tqdm==4.32.2 in c:\\users\\megha\\anaconda3\\lib\\site-packages (from -r requirements.txt (line 2)) (4.32.2)\n",
      "Requirement already satisfied: numpy==1.16.4 in c:\\users\\megha\\anaconda3\\lib\\site-packages (from -r requirements.txt (line 3)) (1.16.4)\n",
      "Requirement already satisfied: requests==2.21.0 in c:\\users\\megha\\anaconda3\\lib\\site-packages (from -r requirements.txt (line 4)) (2.21.0)\n",
      "Requirement already satisfied: bert-tensorflow==1.0.1 in c:\\users\\megha\\anaconda3\\lib\\site-packages (from -r requirements.txt (line 5)) (1.0.1)\n",
      "Requirement already satisfied: tensorflow_hub==0.4.0 in c:\\users\\megha\\anaconda3\\lib\\site-packages (from -r requirements.txt (line 6)) (0.4.0)\n",
      "Requirement already satisfied: smart_open==1.8.4 in c:\\users\\megha\\anaconda3\\lib\\site-packages (from -r requirements.txt (line 7)) (1.8.4)\n",
      "Requirement already satisfied: sentencepiece==0.1.82 in c:\\users\\megha\\anaconda3\\lib\\site-packages (from -r requirements.txt (line 8)) (0.1.82)\n",
      "Requirement already satisfied: tensorflow==1.14.0 in c:\\users\\megha\\anaconda3\\lib\\site-packages (from -r requirements.txt (line 9)) (1.14.0)\n",
      "Requirement already satisfied: setuptools>=41.0.0 in c:\\users\\megha\\anaconda3\\lib\\site-packages (from -r requirements.txt (line 10)) (41.0.1)\n",
      "Requirement already satisfied: six>=1.9.0 in c:\\users\\megha\\anaconda3\\lib\\site-packages (from keras==2.2.4->-r requirements.txt (line 1)) (1.12.0)\n",
      "Requirement already satisfied: scipy>=0.14 in c:\\users\\megha\\anaconda3\\lib\\site-packages (from keras==2.2.4->-r requirements.txt (line 1)) (1.2.1)\n",
      "Requirement already satisfied: keras-applications>=1.0.6 in c:\\users\\megha\\anaconda3\\lib\\site-packages (from keras==2.2.4->-r requirements.txt (line 1)) (1.0.8)\n",
      "Requirement already satisfied: h5py in c:\\users\\megha\\anaconda3\\lib\\site-packages (from keras==2.2.4->-r requirements.txt (line 1)) (2.9.0)\n",
      "Requirement already satisfied: keras-preprocessing>=1.0.5 in c:\\users\\megha\\anaconda3\\lib\\site-packages (from keras==2.2.4->-r requirements.txt (line 1)) (1.1.0)\n",
      "Requirement already satisfied: pyyaml in c:\\users\\megha\\anaconda3\\lib\\site-packages (from keras==2.2.4->-r requirements.txt (line 1)) (5.1.1)\n",
      "Requirement already satisfied: idna<2.9,>=2.5 in c:\\users\\megha\\anaconda3\\lib\\site-packages (from requests==2.21.0->-r requirements.txt (line 4)) (2.8)\n",
      "Requirement already satisfied: urllib3<1.25,>=1.21.1 in c:\\users\\megha\\anaconda3\\lib\\site-packages (from requests==2.21.0->-r requirements.txt (line 4)) (1.24.2)\n",
      "Requirement already satisfied: chardet<3.1.0,>=3.0.2 in c:\\users\\megha\\anaconda3\\lib\\site-packages (from requests==2.21.0->-r requirements.txt (line 4)) (3.0.4)\n",
      "Requirement already satisfied: certifi>=2017.4.17 in c:\\users\\megha\\anaconda3\\lib\\site-packages (from requests==2.21.0->-r requirements.txt (line 4)) (2019.6.16)\n",
      "Requirement already satisfied: protobuf>=3.4.0 in c:\\users\\megha\\anaconda3\\lib\\site-packages (from tensorflow_hub==0.4.0->-r requirements.txt (line 6)) (3.9.1)\n",
      "Requirement already satisfied: boto>=2.32 in c:\\users\\megha\\anaconda3\\lib\\site-packages (from smart_open==1.8.4->-r requirements.txt (line 7)) (2.49.0)\n",
      "Requirement already satisfied: boto3 in c:\\users\\megha\\anaconda3\\lib\\site-packages (from smart_open==1.8.4->-r requirements.txt (line 7)) (1.9.224)\n",
      "Requirement already satisfied: google-pasta>=0.1.6 in c:\\users\\megha\\anaconda3\\lib\\site-packages (from tensorflow==1.14.0->-r requirements.txt (line 9)) (0.1.7)\n",
      "Requirement already satisfied: tensorflow-estimator<1.15.0rc0,>=1.14.0rc0 in c:\\users\\megha\\anaconda3\\lib\\site-packages (from tensorflow==1.14.0->-r requirements.txt (line 9)) (1.14.0)\n",
      "Requirement already satisfied: termcolor>=1.1.0 in c:\\users\\megha\\anaconda3\\lib\\site-packages (from tensorflow==1.14.0->-r requirements.txt (line 9)) (1.1.0)\n",
      "Requirement already satisfied: absl-py>=0.7.0 in c:\\users\\megha\\anaconda3\\lib\\site-packages (from tensorflow==1.14.0->-r requirements.txt (line 9)) (0.8.0)\n",
      "Requirement already satisfied: wrapt>=1.11.1 in c:\\users\\megha\\anaconda3\\lib\\site-packages (from tensorflow==1.14.0->-r requirements.txt (line 9)) (1.11.2)\n",
      "Requirement already satisfied: gast>=0.2.0 in c:\\users\\megha\\anaconda3\\lib\\site-packages (from tensorflow==1.14.0->-r requirements.txt (line 9)) (0.2.2)\n",
      "Requirement already satisfied: tensorboard<1.15.0,>=1.14.0 in c:\\users\\megha\\anaconda3\\lib\\site-packages (from tensorflow==1.14.0->-r requirements.txt (line 9)) (1.14.0)\n",
      "Requirement already satisfied: grpcio>=1.8.6 in c:\\users\\megha\\anaconda3\\lib\\site-packages (from tensorflow==1.14.0->-r requirements.txt (line 9)) (1.23.0)\n",
      "Requirement already satisfied: astor>=0.6.0 in c:\\users\\megha\\anaconda3\\lib\\site-packages (from tensorflow==1.14.0->-r requirements.txt (line 9)) (0.8.0)\n",
      "Requirement already satisfied: wheel>=0.26 in c:\\users\\megha\\anaconda3\\lib\\site-packages (from tensorflow==1.14.0->-r requirements.txt (line 9)) (0.33.4)\n",
      "Requirement already satisfied: jmespath<1.0.0,>=0.7.1 in c:\\users\\megha\\anaconda3\\lib\\site-packages (from boto3->smart_open==1.8.4->-r requirements.txt (line 7)) (0.9.4)\n",
      "Requirement already satisfied: s3transfer<0.3.0,>=0.2.0 in c:\\users\\megha\\anaconda3\\lib\\site-packages (from boto3->smart_open==1.8.4->-r requirements.txt (line 7)) (0.2.1)\n",
      "Requirement already satisfied: botocore<1.13.0,>=1.12.224 in c:\\users\\megha\\anaconda3\\lib\\site-packages (from boto3->smart_open==1.8.4->-r requirements.txt (line 7)) (1.12.224)\n",
      "Requirement already satisfied: werkzeug>=0.11.15 in c:\\users\\megha\\anaconda3\\lib\\site-packages (from tensorboard<1.15.0,>=1.14.0->tensorflow==1.14.0->-r requirements.txt (line 9)) (0.15.4)\n",
      "Requirement already satisfied: markdown>=2.6.8 in c:\\users\\megha\\anaconda3\\lib\\site-packages (from tensorboard<1.15.0,>=1.14.0->tensorflow==1.14.0->-r requirements.txt (line 9)) (3.1.1)\n",
      "Requirement already satisfied: python-dateutil<3.0.0,>=2.1; python_version >= \"2.7\" in c:\\users\\megha\\anaconda3\\lib\\site-packages (from botocore<1.13.0,>=1.12.224->boto3->smart_open==1.8.4->-r requirements.txt (line 7)) (2.8.0)\n",
      "Requirement already satisfied: docutils<0.16,>=0.10 in c:\\users\\megha\\anaconda3\\lib\\site-packages (from botocore<1.13.0,>=1.12.224->boto3->smart_open==1.8.4->-r requirements.txt (line 7)) (0.14)\n"
     ]
    }
   ],
   "source": [
    "!pip install -r requirements.txt"
   ]
  },
  {
   "cell_type": "code",
   "execution_count": 10,
   "metadata": {},
   "outputs": [],
   "source": [
    "from embedding_as_service.text.encode import Encoder"
   ]
  },
  {
   "cell_type": "code",
   "execution_count": 11,
   "metadata": {},
   "outputs": [
    {
     "name": "stdout",
     "output_type": "stream",
     "text": [
      "WARNING:tensorflow:From C:\\Users\\megha\\Desktop\\anaconda codes\\masters\\others\\hackathon\\embedding-as-service\\embedding_as_service\\text\\bert\\__init__.py:77: The name tf.Session is deprecated. Please use tf.compat.v1.Session instead.\n",
      "\n",
      "Model does not exists, Downloading model: bert_base_cased\n",
      "[||||||||||||||||||||||||||||||||||||||||||||||||||] 100 % [394850/394850 kb]\n",
      "Model downloaded successfully!\n",
      "Loading Model (this might take few minutes).....\n",
      "WARNING:tensorflow:From C:\\Users\\megha\\Desktop\\anaconda codes\\masters\\others\\hackathon\\embedding-as-service\\embedding_as_service\\text\\bert\\__init__.py:136: The name tf.initializers.global_variables is deprecated. Please use tf.compat.v1.initializers.global_variables instead.\n",
      "\n",
      "INFO:tensorflow:Saver not created because there are no variables in the graph to restore\n",
      "WARNING:tensorflow:From C:\\Users\\megha\\Anaconda3\\lib\\site-packages\\bert\\tokenization.py:125: The name tf.gfile.GFile is deprecated. Please use tf.io.gfile.GFile instead.\n",
      "\n",
      "Model loaded Successfully !\n"
     ]
    }
   ],
   "source": [
    "en = Encoder(embedding='bert', model='bert_base_cased', download=True)"
   ]
  },
  {
   "cell_type": "code",
   "execution_count": 12,
   "metadata": {},
   "outputs": [],
   "source": [
    "li=[['clearly explained'],['I was able to understand concept in detail'],['Thank you for making it so simple'],['basics were not covered'],['I found it difficult to understand']]"
   ]
  },
  {
   "cell_type": "code",
   "execution_count": 13,
   "metadata": {},
   "outputs": [
    {
     "name": "stderr",
     "output_type": "stream",
     "text": [
      "Converting texts to features: 100%|█████████████████████████████████████████████████████| 1/1 [00:00<00:00, 928.35it/s]\n"
     ]
    },
    {
     "name": "stdout",
     "output_type": "stream",
     "text": [
      "INFO:tensorflow:Saver not created because there are no variables in the graph to restore\n"
     ]
    }
   ],
   "source": [
    "stmt=['hello world']\n",
    "x=en.encode(stmt)"
   ]
  },
  {
   "cell_type": "code",
   "execution_count": 14,
   "metadata": {},
   "outputs": [
    {
     "data": {
      "text/plain": [
       "(1, 128, 768)"
      ]
     },
     "execution_count": 14,
     "metadata": {},
     "output_type": "execute_result"
    }
   ],
   "source": [
    "x.shape"
   ]
  },
  {
   "cell_type": "code",
   "execution_count": 15,
   "metadata": {},
   "outputs": [
    {
     "name": "stderr",
     "output_type": "stream",
     "text": [
      "Converting texts to features: 100%|████████████████████████████████████████████████████| 1/1 [00:00<00:00, 1213.98it/s]\n"
     ]
    },
    {
     "name": "stdout",
     "output_type": "stream",
     "text": [
      "INFO:tensorflow:Saver not created because there are no variables in the graph to restore\n"
     ]
    },
    {
     "data": {
      "text/plain": [
       "(1, 128, 768)"
      ]
     },
     "execution_count": 15,
     "metadata": {},
     "output_type": "execute_result"
    }
   ],
   "source": [
    "stmt=['I am Megha']\n",
    "y=en.encode(stmt)\n",
    "y.shape"
   ]
  },
  {
   "cell_type": "code",
   "execution_count": 16,
   "metadata": {},
   "outputs": [],
   "source": [
    "# import numpy as np\n",
    "# np.sqrt(((x - y)**2).sum(-1))"
   ]
  },
  {
   "cell_type": "code",
   "execution_count": 17,
   "metadata": {},
   "outputs": [
    {
     "data": {
      "text/plain": [
       "(1, 128)"
      ]
     },
     "execution_count": 17,
     "metadata": {},
     "output_type": "execute_result"
    }
   ],
   "source": [
    "np.linalg.norm(x-y, axis=-1).shape"
   ]
  },
  {
   "cell_type": "code",
   "execution_count": null,
   "metadata": {},
   "outputs": [],
   "source": []
  },
  {
   "cell_type": "markdown",
   "metadata": {},
   "source": [
    "### Using distance measure"
   ]
  },
  {
   "cell_type": "code",
   "execution_count": 18,
   "metadata": {},
   "outputs": [
    {
     "name": "stderr",
     "output_type": "stream",
     "text": [
      "Converting texts to features: 100%|██████████████████████████████████████████████████████████████| 1/1 [00:00<?, ?it/s]\n"
     ]
    },
    {
     "name": "stdout",
     "output_type": "stream",
     "text": [
      "INFO:tensorflow:Saver not created because there are no variables in the graph to restore\n"
     ]
    },
    {
     "name": "stderr",
     "output_type": "stream",
     "text": [
      "Converting texts to features: 100%|█████████████████████████████████████████████████████| 1/1 [00:00<00:00, 996.98it/s]\n"
     ]
    },
    {
     "name": "stdout",
     "output_type": "stream",
     "text": [
      "INFO:tensorflow:Saver not created because there are no variables in the graph to restore\n"
     ]
    }
   ],
   "source": [
    "easy=en.encode(['easy to understand'])\n",
    "hard=en.encode(['difficult to understand'])"
   ]
  },
  {
   "cell_type": "code",
   "execution_count": null,
   "metadata": {},
   "outputs": [],
   "source": []
  },
  {
   "cell_type": "code",
   "execution_count": null,
   "metadata": {},
   "outputs": [
    {
     "name": "stderr",
     "output_type": "stream",
     "text": [
      "Converting texts to features: 100%|█████████████████████████████████████████████████████| 1/1 [00:00<00:00, 996.75it/s]\n"
     ]
    },
    {
     "name": "stdout",
     "output_type": "stream",
     "text": [
      "INFO:tensorflow:Saver not created because there are no variables in the graph to restore\n"
     ]
    },
    {
     "name": "stderr",
     "output_type": "stream",
     "text": [
      "Converting texts to features: 100%|████████████████████████████████████████████████████| 1/1 [00:00<00:00, 3032.76it/s]\n"
     ]
    },
    {
     "name": "stdout",
     "output_type": "stream",
     "text": [
      "INFO:tensorflow:Saver not created because there are no variables in the graph to restore\n"
     ]
    },
    {
     "name": "stderr",
     "output_type": "stream",
     "text": [
      "Converting texts to features: 100%|█████████████████████████████████████████████████████| 1/1 [00:00<00:00, 996.04it/s]\n"
     ]
    },
    {
     "name": "stdout",
     "output_type": "stream",
     "text": [
      "INFO:tensorflow:Saver not created because there are no variables in the graph to restore\n"
     ]
    },
    {
     "name": "stderr",
     "output_type": "stream",
     "text": [
      "Converting texts to features: 100%|██████████████████████████████████████████████████████████████| 1/1 [00:00<?, ?it/s]\n"
     ]
    },
    {
     "name": "stdout",
     "output_type": "stream",
     "text": [
      "INFO:tensorflow:Saver not created because there are no variables in the graph to restore\n"
     ]
    }
   ],
   "source": [
    "ease=[]\n",
    "tough=[]\n",
    "li_ar=[]\n",
    "for i in range(len(li)):\n",
    "    st=en.encode(li[i])\n",
    "    li_ar.append(st)\n",
    "    dist_easy=np.linalg.norm(st-easy, axis=-1).sum()\n",
    "    dist_hard=np.linalg.norm(st-hard, axis=-1).sum()\n",
    "    if (dist_easy<dist_hard):\n",
    "        ease.append(li[i])\n",
    "    else:\n",
    "        tough.append(li[i])\n",
    "            "
   ]
  },
  {
   "cell_type": "code",
   "execution_count": null,
   "metadata": {},
   "outputs": [],
   "source": [
    "ease"
   ]
  },
  {
   "cell_type": "code",
   "execution_count": null,
   "metadata": {},
   "outputs": [],
   "source": [
    "tough"
   ]
  },
  {
   "cell_type": "code",
   "execution_count": null,
   "metadata": {},
   "outputs": [],
   "source": []
  },
  {
   "cell_type": "code",
   "execution_count": null,
   "metadata": {},
   "outputs": [],
   "source": []
  },
  {
   "cell_type": "code",
   "execution_count": null,
   "metadata": {},
   "outputs": [],
   "source": []
  },
  {
   "cell_type": "markdown",
   "metadata": {},
   "source": [
    "### Using Clustering"
   ]
  },
  {
   "cell_type": "code",
   "execution_count": null,
   "metadata": {},
   "outputs": [],
   "source": [
    "li_ar_dist=[]\n",
    "for i in range(len(li)):\n",
    "    st=en.encode(li[i])\n",
    "    \n",
    "    dist_easy=np.linalg.norm(st-easy, axis=-1)\n",
    "    \n",
    "    li_ar_dist.append(dist_easy)\n"
   ]
  },
  {
   "cell_type": "code",
   "execution_count": null,
   "metadata": {},
   "outputs": [],
   "source": [
    "li_2d=[]\n",
    "for i in li_ar_dist:\n",
    "    li_2d.append(i.ravel())"
   ]
  },
  {
   "cell_type": "code",
   "execution_count": null,
   "metadata": {},
   "outputs": [],
   "source": [
    "import numpy as np\n",
    "import matplotlib.pyplot as plt\n",
    "from sklearn.cluster import KMeans\n",
    "\n",
    "\n",
    "x = np.array(li_2d)\n",
    "\n",
    "kmeans = KMeans(n_clusters=2, random_state=0).fit(x)\n",
    "\n",
    "centroids = kmeans.cluster_centers_\n",
    "\n",
    "labels = kmeans.labels_\n",
    "\n",
    "\n",
    "print(labels)\n",
    "\n"
   ]
  },
  {
   "cell_type": "code",
   "execution_count": null,
   "metadata": {},
   "outputs": [],
   "source": [
    "for i in li:\n",
    "    print(i)"
   ]
  },
  {
   "cell_type": "code",
   "execution_count": null,
   "metadata": {},
   "outputs": [],
   "source": []
  },
  {
   "cell_type": "code",
   "execution_count": null,
   "metadata": {},
   "outputs": [],
   "source": []
  }
 ],
 "metadata": {
  "kernelspec": {
   "display_name": "Python 3",
   "language": "python",
   "name": "python3"
  },
  "language_info": {
   "codemirror_mode": {
    "name": "ipython",
    "version": 3
   },
   "file_extension": ".py",
   "mimetype": "text/x-python",
   "name": "python",
   "nbconvert_exporter": "python",
   "pygments_lexer": "ipython3",
   "version": "3.7.3"
  }
 },
 "nbformat": 4,
 "nbformat_minor": 2
}
