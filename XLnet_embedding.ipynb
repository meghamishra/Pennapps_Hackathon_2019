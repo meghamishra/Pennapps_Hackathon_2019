{
 "cells": [
  {
   "cell_type": "code",
   "execution_count": null,
   "metadata": {},
   "outputs": [],
   "source": [
    "import warnings\n",
    "warnings.filterwarnings(\"ignore\")"
   ]
  },
  {
   "cell_type": "code",
   "execution_count": null,
   "metadata": {},
   "outputs": [],
   "source": []
  },
  {
   "cell_type": "code",
   "execution_count": null,
   "metadata": {},
   "outputs": [],
   "source": []
  },
  {
   "cell_type": "code",
   "execution_count": 3,
   "metadata": {},
   "outputs": [
    {
     "name": "stderr",
     "output_type": "stream",
     "text": [
      "Cloning into 'embedding-as-service'...\n"
     ]
    }
   ],
   "source": [
    "!git clone https://github.com/amansrivastava17/embedding-as-service.git"
   ]
  },
  {
   "cell_type": "code",
   "execution_count": 4,
   "metadata": {},
   "outputs": [
    {
     "name": "stdout",
     "output_type": "stream",
     "text": [
      "C:\\Users\\megha\\Desktop\\anaconda codes\\masters\\others\\hackathon\\embedding-as-service\n"
     ]
    }
   ],
   "source": [
    "cd embedding-as-service/"
   ]
  },
  {
   "cell_type": "code",
   "execution_count": 5,
   "metadata": {},
   "outputs": [
    {
     "name": "stdout",
     "output_type": "stream",
     "text": [
      "Your branch is up-to-date with 'origin/master'.\n"
     ]
    },
    {
     "name": "stderr",
     "output_type": "stream",
     "text": [
      "Already on 'master'\n"
     ]
    }
   ],
   "source": [
    "!git checkout master"
   ]
  },
  {
   "cell_type": "code",
   "execution_count": 6,
   "metadata": {},
   "outputs": [
    {
     "name": "stdout",
     "output_type": "stream",
     "text": [
      "* master\n"
     ]
    }
   ],
   "source": [
    "!git branch"
   ]
  },
  {
   "cell_type": "code",
   "execution_count": 7,
   "metadata": {
    "collapsed": true
   },
   "outputs": [
    {
     "name": "stdout",
     "output_type": "stream",
     "text": [
      "Collecting keras==2.2.4 (from -r requirements.txt (line 1))\n",
      "  Downloading https://files.pythonhosted.org/packages/5e/10/aa32dad071ce52b5502266b5c659451cfd6ffcbf14e6c8c4f16c0ff5aaab/Keras-2.2.4-py2.py3-none-any.whl (312kB)\n",
      "Collecting tqdm==4.32.2 (from -r requirements.txt (line 2))\n",
      "  Downloading https://files.pythonhosted.org/packages/9f/3d/7a6b68b631d2ab54975f3a4863f3c4e9b26445353264ef01f465dc9b0208/tqdm-4.32.2-py2.py3-none-any.whl (50kB)\n",
      "Requirement already satisfied: numpy==1.16.4 in c:\\users\\megha\\anaconda3\\lib\\site-packages (from -r requirements.txt (line 3)) (1.16.4)\n",
      "Collecting requests==2.21.0 (from -r requirements.txt (line 4))\n",
      "  Downloading https://files.pythonhosted.org/packages/7d/e3/20f3d364d6c8e5d2353c72a67778eb189176f08e873c9900e10c0287b84b/requests-2.21.0-py2.py3-none-any.whl (57kB)\n",
      "Collecting bert-tensorflow==1.0.1 (from -r requirements.txt (line 5))\n",
      "  Downloading https://files.pythonhosted.org/packages/a6/66/7eb4e8b6ea35b7cc54c322c816f976167a43019750279a8473d355800a93/bert_tensorflow-1.0.1-py2.py3-none-any.whl (67kB)\n",
      "Collecting tensorflow_hub==0.4.0 (from -r requirements.txt (line 6))\n",
      "  Downloading https://files.pythonhosted.org/packages/10/5c/6f3698513cf1cd730a5ea66aec665d213adf9de59b34f362f270e0bd126f/tensorflow_hub-0.4.0-py2.py3-none-any.whl (75kB)\n",
      "Requirement already satisfied: smart_open==1.8.4 in c:\\users\\megha\\anaconda3\\lib\\site-packages (from -r requirements.txt (line 7)) (1.8.4)\n",
      "Collecting sentencepiece==0.1.82 (from -r requirements.txt (line 8))\n",
      "  Downloading https://files.pythonhosted.org/packages/24/2a/4cfebad1dddd713db2e80edeb42a3abe67a26ed1fe079e97b21801200f5a/sentencepiece-0.1.82-cp37-cp37m-win_amd64.whl (1.2MB)\n",
      "Collecting tensorflow==1.14.0 (from -r requirements.txt (line 9))\n",
      "  Downloading https://files.pythonhosted.org/packages/f7/08/25e47a53692c2e0dcd2211a493ddfe9007a5cd92e175d6dffa6169a0b392/tensorflow-1.14.0-cp37-cp37m-win_amd64.whl (68.3MB)\n",
      "Requirement already satisfied: setuptools>=41.0.0 in c:\\users\\megha\\anaconda3\\lib\\site-packages (from -r requirements.txt (line 10)) (41.0.1)\n",
      "Requirement already satisfied: keras-applications>=1.0.6 in c:\\users\\megha\\anaconda3\\lib\\site-packages (from keras==2.2.4->-r requirements.txt (line 1)) (1.0.8)\n",
      "Requirement already satisfied: h5py in c:\\users\\megha\\anaconda3\\lib\\site-packages (from keras==2.2.4->-r requirements.txt (line 1)) (2.9.0)\n",
      "Requirement already satisfied: keras-preprocessing>=1.0.5 in c:\\users\\megha\\anaconda3\\lib\\site-packages (from keras==2.2.4->-r requirements.txt (line 1)) (1.1.0)\n",
      "Requirement already satisfied: six>=1.9.0 in c:\\users\\megha\\anaconda3\\lib\\site-packages (from keras==2.2.4->-r requirements.txt (line 1)) (1.12.0)\n",
      "Requirement already satisfied: scipy>=0.14 in c:\\users\\megha\\anaconda3\\lib\\site-packages (from keras==2.2.4->-r requirements.txt (line 1)) (1.2.1)\n",
      "Requirement already satisfied: pyyaml in c:\\users\\megha\\anaconda3\\lib\\site-packages (from keras==2.2.4->-r requirements.txt (line 1)) (5.1.1)\n",
      "Requirement already satisfied: idna<2.9,>=2.5 in c:\\users\\megha\\anaconda3\\lib\\site-packages (from requests==2.21.0->-r requirements.txt (line 4)) (2.8)\n",
      "Requirement already satisfied: urllib3<1.25,>=1.21.1 in c:\\users\\megha\\anaconda3\\lib\\site-packages (from requests==2.21.0->-r requirements.txt (line 4)) (1.24.2)\n",
      "Requirement already satisfied: chardet<3.1.0,>=3.0.2 in c:\\users\\megha\\anaconda3\\lib\\site-packages (from requests==2.21.0->-r requirements.txt (line 4)) (3.0.4)\n",
      "Requirement already satisfied: certifi>=2017.4.17 in c:\\users\\megha\\anaconda3\\lib\\site-packages (from requests==2.21.0->-r requirements.txt (line 4)) (2019.6.16)\n",
      "Requirement already satisfied: protobuf>=3.4.0 in c:\\users\\megha\\anaconda3\\lib\\site-packages (from tensorflow_hub==0.4.0->-r requirements.txt (line 6)) (3.9.1)\n",
      "Requirement already satisfied: boto>=2.32 in c:\\users\\megha\\anaconda3\\lib\\site-packages (from smart_open==1.8.4->-r requirements.txt (line 7)) (2.49.0)\n",
      "Requirement already satisfied: boto3 in c:\\users\\megha\\anaconda3\\lib\\site-packages (from smart_open==1.8.4->-r requirements.txt (line 7)) (1.9.224)\n",
      "Requirement already satisfied: wheel>=0.26 in c:\\users\\megha\\anaconda3\\lib\\site-packages (from tensorflow==1.14.0->-r requirements.txt (line 9)) (0.33.4)\n",
      "Requirement already satisfied: tensorboard<1.15.0,>=1.14.0 in c:\\users\\megha\\anaconda3\\lib\\site-packages (from tensorflow==1.14.0->-r requirements.txt (line 9)) (1.14.0)\n",
      "Requirement already satisfied: absl-py>=0.7.0 in c:\\users\\megha\\anaconda3\\lib\\site-packages (from tensorflow==1.14.0->-r requirements.txt (line 9)) (0.8.0)\n",
      "Requirement already satisfied: astor>=0.6.0 in c:\\users\\megha\\anaconda3\\lib\\site-packages (from tensorflow==1.14.0->-r requirements.txt (line 9)) (0.8.0)\n",
      "Requirement already satisfied: gast>=0.2.0 in c:\\users\\megha\\anaconda3\\lib\\site-packages (from tensorflow==1.14.0->-r requirements.txt (line 9)) (0.2.2)\n",
      "Requirement already satisfied: google-pasta>=0.1.6 in c:\\users\\megha\\anaconda3\\lib\\site-packages (from tensorflow==1.14.0->-r requirements.txt (line 9)) (0.1.7)\n",
      "Requirement already satisfied: grpcio>=1.8.6 in c:\\users\\megha\\anaconda3\\lib\\site-packages (from tensorflow==1.14.0->-r requirements.txt (line 9)) (1.23.0)\n",
      "Requirement already satisfied: termcolor>=1.1.0 in c:\\users\\megha\\anaconda3\\lib\\site-packages (from tensorflow==1.14.0->-r requirements.txt (line 9)) (1.1.0)\n",
      "Requirement already satisfied: wrapt>=1.11.1 in c:\\users\\megha\\anaconda3\\lib\\site-packages (from tensorflow==1.14.0->-r requirements.txt (line 9)) (1.11.2)\n",
      "Requirement already satisfied: tensorflow-estimator<1.15.0rc0,>=1.14.0rc0 in c:\\users\\megha\\anaconda3\\lib\\site-packages (from tensorflow==1.14.0->-r requirements.txt (line 9)) (1.14.0)\n",
      "Requirement already satisfied: jmespath<1.0.0,>=0.7.1 in c:\\users\\megha\\anaconda3\\lib\\site-packages (from boto3->smart_open==1.8.4->-r requirements.txt (line 7)) (0.9.4)\n",
      "Requirement already satisfied: botocore<1.13.0,>=1.12.224 in c:\\users\\megha\\anaconda3\\lib\\site-packages (from boto3->smart_open==1.8.4->-r requirements.txt (line 7)) (1.12.224)\n",
      "Requirement already satisfied: s3transfer<0.3.0,>=0.2.0 in c:\\users\\megha\\anaconda3\\lib\\site-packages (from boto3->smart_open==1.8.4->-r requirements.txt (line 7)) (0.2.1)\n",
      "Requirement already satisfied: werkzeug>=0.11.15 in c:\\users\\megha\\anaconda3\\lib\\site-packages (from tensorboard<1.15.0,>=1.14.0->tensorflow==1.14.0->-r requirements.txt (line 9)) (0.15.4)\n",
      "Requirement already satisfied: markdown>=2.6.8 in c:\\users\\megha\\anaconda3\\lib\\site-packages (from tensorboard<1.15.0,>=1.14.0->tensorflow==1.14.0->-r requirements.txt (line 9)) (3.1.1)\n",
      "Requirement already satisfied: docutils<0.16,>=0.10 in c:\\users\\megha\\anaconda3\\lib\\site-packages (from botocore<1.13.0,>=1.12.224->boto3->smart_open==1.8.4->-r requirements.txt (line 7)) (0.14)\n",
      "Requirement already satisfied: python-dateutil<3.0.0,>=2.1; python_version >= \"2.7\" in c:\\users\\megha\\anaconda3\\lib\\site-packages (from botocore<1.13.0,>=1.12.224->boto3->smart_open==1.8.4->-r requirements.txt (line 7)) (2.8.0)\n",
      "Installing collected packages: keras, tqdm, requests, bert-tensorflow, tensorflow-hub, sentencepiece, tensorflow\n",
      "  Found existing installation: tqdm 4.32.1\n",
      "    Uninstalling tqdm-4.32.1:\n",
      "      Successfully uninstalled tqdm-4.32.1\n",
      "  Found existing installation: requests 2.22.0\n",
      "    Uninstalling requests-2.22.0:\n",
      "      Successfully uninstalled requests-2.22.0\n",
      "  Found existing installation: tensorflow 2.0.0rc0\n",
      "    Uninstalling tensorflow-2.0.0rc0:\n",
      "      Successfully uninstalled tensorflow-2.0.0rc0\n",
      "Successfully installed bert-tensorflow-1.0.1 keras-2.2.4 requests-2.21.0 sentencepiece-0.1.82 tensorflow-1.14.0 tensorflow-hub-0.4.0 tqdm-4.32.2\n"
     ]
    }
   ],
   "source": [
    "!pip install -r requirements.txt"
   ]
  },
  {
   "cell_type": "code",
   "execution_count": 9,
   "metadata": {},
   "outputs": [],
   "source": [
    "from embedding_as_service.text.encode import Encoder"
   ]
  },
  {
   "cell_type": "code",
   "execution_count": 10,
   "metadata": {},
   "outputs": [
    {
     "name": "stdout",
     "output_type": "stream",
     "text": [
      "WARNING:tensorflow:From C:\\Users\\megha\\Desktop\\anaconda codes\\masters\\others\\hackathon\\embedding-as-service\\embedding_as_service\\text\\xlnet\\__init__.py:61: The name tf.Session is deprecated. Please use tf.compat.v1.Session instead.\n",
      "\n",
      "Model does not exists, Downloading model: xlnet_base_cased\n",
      "[||||||||||||||||||||||||||||||||||||||||||||||||||] 100 % [423474/423474 kb]\n",
      "Model downloaded successfully!\n",
      "Loading Model (this might take few minutes).....\n",
      "WARNING:tensorflow:From C:\\Users\\megha\\Desktop\\anaconda codes\\masters\\others\\hackathon\\embedding-as-service\\embedding_as_service\\text\\xlnet\\models\\xlnet.py:62: The name tf.gfile.Open is deprecated. Please use tf.io.gfile.GFile instead.\n",
      "\n",
      "Model loaded Successfully !\n"
     ]
    }
   ],
   "source": [
    "en = Encoder(embedding='xlnet', model='xlnet_base_cased', download=True)"
   ]
  },
  {
   "cell_type": "code",
   "execution_count": 16,
   "metadata": {},
   "outputs": [],
   "source": [
    "li=[['clearly explained'],['I was able to understand concept in detail'],['Thank you for making it so simple'],['basics were not covered'],['I found it difficult to understand']]"
   ]
  },
  {
   "cell_type": "code",
   "execution_count": 115,
   "metadata": {},
   "outputs": [
    {
     "name": "stderr",
     "output_type": "stream",
     "text": [
      "Converting texts to features: 100%|██████████████████████████████████████████████████████| 1/1 [00:00<00:00, 22.20it/s]\n"
     ]
    },
    {
     "name": "stdout",
     "output_type": "stream",
     "text": [
      "INFO:tensorflow:memory input None\n"
     ]
    },
    {
     "name": "stderr",
     "output_type": "stream",
     "text": [
      "INFO:tensorflow:memory input None\n"
     ]
    },
    {
     "name": "stdout",
     "output_type": "stream",
     "text": [
      "INFO:tensorflow:Use float type <dtype: 'float32'>\n"
     ]
    },
    {
     "name": "stderr",
     "output_type": "stream",
     "text": [
      "INFO:tensorflow:Use float type <dtype: 'float32'>\n"
     ]
    }
   ],
   "source": [
    "stmt=['hello world']\n",
    "x=en.encode(stmt)"
   ]
  },
  {
   "cell_type": "code",
   "execution_count": 116,
   "metadata": {},
   "outputs": [
    {
     "data": {
      "text/plain": [
       "(1, 128, 768)"
      ]
     },
     "execution_count": 116,
     "metadata": {},
     "output_type": "execute_result"
    }
   ],
   "source": [
    "x.shape"
   ]
  },
  {
   "cell_type": "code",
   "execution_count": 117,
   "metadata": {},
   "outputs": [
    {
     "name": "stderr",
     "output_type": "stream",
     "text": [
      "Converting texts to features: 100%|██████████████████████████████████████████████████████| 1/1 [00:00<00:00, 40.20it/s]\n"
     ]
    },
    {
     "name": "stdout",
     "output_type": "stream",
     "text": [
      "INFO:tensorflow:memory input None\n"
     ]
    },
    {
     "name": "stderr",
     "output_type": "stream",
     "text": [
      "INFO:tensorflow:memory input None\n"
     ]
    },
    {
     "name": "stdout",
     "output_type": "stream",
     "text": [
      "INFO:tensorflow:Use float type <dtype: 'float32'>\n"
     ]
    },
    {
     "name": "stderr",
     "output_type": "stream",
     "text": [
      "INFO:tensorflow:Use float type <dtype: 'float32'>\n"
     ]
    },
    {
     "data": {
      "text/plain": [
       "(1, 128, 768)"
      ]
     },
     "execution_count": 117,
     "metadata": {},
     "output_type": "execute_result"
    }
   ],
   "source": [
    "stmt=['I am Megha']\n",
    "y=en.encode(stmt)\n",
    "y.shape"
   ]
  },
  {
   "cell_type": "code",
   "execution_count": 153,
   "metadata": {},
   "outputs": [],
   "source": [
    "# import numpy as np\n",
    "# np.sqrt(((x - y)**2).sum(-1))"
   ]
  },
  {
   "cell_type": "code",
   "execution_count": 119,
   "metadata": {},
   "outputs": [
    {
     "data": {
      "text/plain": [
       "(1, 128)"
      ]
     },
     "execution_count": 119,
     "metadata": {},
     "output_type": "execute_result"
    }
   ],
   "source": [
    "np.linalg.norm(x-y, axis=-1).shape"
   ]
  },
  {
   "cell_type": "code",
   "execution_count": null,
   "metadata": {},
   "outputs": [],
   "source": []
  },
  {
   "cell_type": "markdown",
   "metadata": {},
   "source": [
    "### Using distance measure"
   ]
  },
  {
   "cell_type": "code",
   "execution_count": 122,
   "metadata": {},
   "outputs": [
    {
     "name": "stderr",
     "output_type": "stream",
     "text": [
      "Converting texts to features: 100%|█████████████████████████████████████████████████████| 1/1 [00:00<00:00, 497.01it/s]\n"
     ]
    },
    {
     "name": "stdout",
     "output_type": "stream",
     "text": [
      "INFO:tensorflow:memory input None\n"
     ]
    },
    {
     "name": "stderr",
     "output_type": "stream",
     "text": [
      "INFO:tensorflow:memory input None\n"
     ]
    },
    {
     "name": "stdout",
     "output_type": "stream",
     "text": [
      "INFO:tensorflow:Use float type <dtype: 'float32'>\n"
     ]
    },
    {
     "name": "stderr",
     "output_type": "stream",
     "text": [
      "INFO:tensorflow:Use float type <dtype: 'float32'>\n",
      "Converting texts to features: 100%|█████████████████████████████████████████████████████| 1/1 [00:00<00:00, 436.32it/s]\n"
     ]
    },
    {
     "name": "stdout",
     "output_type": "stream",
     "text": [
      "INFO:tensorflow:memory input None\n"
     ]
    },
    {
     "name": "stderr",
     "output_type": "stream",
     "text": [
      "INFO:tensorflow:memory input None\n"
     ]
    },
    {
     "name": "stdout",
     "output_type": "stream",
     "text": [
      "INFO:tensorflow:Use float type <dtype: 'float32'>\n"
     ]
    },
    {
     "name": "stderr",
     "output_type": "stream",
     "text": [
      "INFO:tensorflow:Use float type <dtype: 'float32'>\n"
     ]
    }
   ],
   "source": [
    "easy=en.encode(['easy to understand'])\n",
    "hard=en.encode(['difficult to understand'])"
   ]
  },
  {
   "cell_type": "code",
   "execution_count": 100,
   "metadata": {},
   "outputs": [],
   "source": []
  },
  {
   "cell_type": "code",
   "execution_count": 150,
   "metadata": {},
   "outputs": [
    {
     "name": "stderr",
     "output_type": "stream",
     "text": [
      "Converting texts to features: 100%|█████████████████████████████████████████████████████| 1/1 [00:00<00:00, 124.93it/s]\n"
     ]
    },
    {
     "name": "stdout",
     "output_type": "stream",
     "text": [
      "INFO:tensorflow:memory input None\n"
     ]
    },
    {
     "name": "stderr",
     "output_type": "stream",
     "text": [
      "INFO:tensorflow:memory input None\n"
     ]
    },
    {
     "name": "stdout",
     "output_type": "stream",
     "text": [
      "INFO:tensorflow:Use float type <dtype: 'float32'>\n"
     ]
    },
    {
     "name": "stderr",
     "output_type": "stream",
     "text": [
      "INFO:tensorflow:Use float type <dtype: 'float32'>\n",
      "Converting texts to features: 100%|██████████████████████████████████████████████████████| 1/1 [00:00<00:00, 19.05it/s]\n"
     ]
    },
    {
     "name": "stdout",
     "output_type": "stream",
     "text": [
      "INFO:tensorflow:memory input None\n"
     ]
    },
    {
     "name": "stderr",
     "output_type": "stream",
     "text": [
      "INFO:tensorflow:memory input None\n"
     ]
    },
    {
     "name": "stdout",
     "output_type": "stream",
     "text": [
      "INFO:tensorflow:Use float type <dtype: 'float32'>\n"
     ]
    },
    {
     "name": "stderr",
     "output_type": "stream",
     "text": [
      "INFO:tensorflow:Use float type <dtype: 'float32'>\n",
      "Converting texts to features: 100%|█████████████████████████████████████████████████████| 1/1 [00:00<00:00, 485.85it/s]\n"
     ]
    },
    {
     "name": "stdout",
     "output_type": "stream",
     "text": [
      "INFO:tensorflow:memory input None\n"
     ]
    },
    {
     "name": "stderr",
     "output_type": "stream",
     "text": [
      "INFO:tensorflow:memory input None\n"
     ]
    },
    {
     "name": "stdout",
     "output_type": "stream",
     "text": [
      "INFO:tensorflow:Use float type <dtype: 'float32'>\n"
     ]
    },
    {
     "name": "stderr",
     "output_type": "stream",
     "text": [
      "INFO:tensorflow:Use float type <dtype: 'float32'>\n",
      "Converting texts to features: 100%|█████████████████████████████████████████████████████| 1/1 [00:00<00:00, 618.08it/s]\n"
     ]
    },
    {
     "name": "stdout",
     "output_type": "stream",
     "text": [
      "INFO:tensorflow:memory input None\n"
     ]
    },
    {
     "name": "stderr",
     "output_type": "stream",
     "text": [
      "INFO:tensorflow:memory input None\n"
     ]
    },
    {
     "name": "stdout",
     "output_type": "stream",
     "text": [
      "INFO:tensorflow:Use float type <dtype: 'float32'>\n"
     ]
    },
    {
     "name": "stderr",
     "output_type": "stream",
     "text": [
      "INFO:tensorflow:Use float type <dtype: 'float32'>\n",
      "Converting texts to features: 100%|█████████████████████████████████████████████████████| 1/1 [00:00<00:00, 200.99it/s]\n"
     ]
    },
    {
     "name": "stdout",
     "output_type": "stream",
     "text": [
      "INFO:tensorflow:memory input None\n"
     ]
    },
    {
     "name": "stderr",
     "output_type": "stream",
     "text": [
      "INFO:tensorflow:memory input None\n"
     ]
    },
    {
     "name": "stdout",
     "output_type": "stream",
     "text": [
      "INFO:tensorflow:Use float type <dtype: 'float32'>\n"
     ]
    },
    {
     "name": "stderr",
     "output_type": "stream",
     "text": [
      "INFO:tensorflow:Use float type <dtype: 'float32'>\n"
     ]
    }
   ],
   "source": [
    "ease=[]\n",
    "tough=[]\n",
    "li_ar=[]\n",
    "for i in range(len(li)):\n",
    "    st=en.encode(li[i])\n",
    "    li_ar.append(st)\n",
    "    dist_easy=np.linalg.norm(st-easy, axis=-1).sum()\n",
    "    dist_hard=np.linalg.norm(st-hard, axis=-1).sum()\n",
    "    if (dist_easy<dist_hard):\n",
    "        ease.append(li[i])\n",
    "    else:\n",
    "        tough.append(li[i])\n",
    "            "
   ]
  },
  {
   "cell_type": "code",
   "execution_count": 151,
   "metadata": {},
   "outputs": [
    {
     "data": {
      "text/plain": [
       "[['clearly explained'],\n",
       " ['I was able to understand concept in detail'],\n",
       " ['I found it difficult to understand']]"
      ]
     },
     "execution_count": 151,
     "metadata": {},
     "output_type": "execute_result"
    }
   ],
   "source": [
    "ease"
   ]
  },
  {
   "cell_type": "code",
   "execution_count": 152,
   "metadata": {},
   "outputs": [
    {
     "data": {
      "text/plain": [
       "[['Thank you for making it so simple'], ['basics were not covered']]"
      ]
     },
     "execution_count": 152,
     "metadata": {},
     "output_type": "execute_result"
    }
   ],
   "source": [
    "tough"
   ]
  },
  {
   "cell_type": "code",
   "execution_count": null,
   "metadata": {},
   "outputs": [],
   "source": []
  },
  {
   "cell_type": "code",
   "execution_count": null,
   "metadata": {},
   "outputs": [],
   "source": []
  },
  {
   "cell_type": "code",
   "execution_count": null,
   "metadata": {},
   "outputs": [],
   "source": []
  },
  {
   "cell_type": "markdown",
   "metadata": {},
   "source": [
    "### Using Clustering"
   ]
  },
  {
   "cell_type": "code",
   "execution_count": 123,
   "metadata": {},
   "outputs": [
    {
     "name": "stderr",
     "output_type": "stream",
     "text": [
      "Converting texts to features: 100%|█████████████████████████████████████████████████████| 1/1 [00:00<00:00, 262.16it/s]\n"
     ]
    },
    {
     "name": "stdout",
     "output_type": "stream",
     "text": [
      "INFO:tensorflow:memory input None\n"
     ]
    },
    {
     "name": "stderr",
     "output_type": "stream",
     "text": [
      "INFO:tensorflow:memory input None\n"
     ]
    },
    {
     "name": "stdout",
     "output_type": "stream",
     "text": [
      "INFO:tensorflow:Use float type <dtype: 'float32'>\n"
     ]
    },
    {
     "name": "stderr",
     "output_type": "stream",
     "text": [
      "INFO:tensorflow:Use float type <dtype: 'float32'>\n",
      "Converting texts to features: 100%|█████████████████████████████████████████████████████| 1/1 [00:00<00:00, 142.87it/s]\n"
     ]
    },
    {
     "name": "stdout",
     "output_type": "stream",
     "text": [
      "INFO:tensorflow:memory input None\n"
     ]
    },
    {
     "name": "stderr",
     "output_type": "stream",
     "text": [
      "INFO:tensorflow:memory input None\n"
     ]
    },
    {
     "name": "stdout",
     "output_type": "stream",
     "text": [
      "INFO:tensorflow:Use float type <dtype: 'float32'>\n"
     ]
    },
    {
     "name": "stderr",
     "output_type": "stream",
     "text": [
      "INFO:tensorflow:Use float type <dtype: 'float32'>\n",
      "Converting texts to features: 100%|█████████████████████████████████████████████████████| 1/1 [00:00<00:00, 224.45it/s]\n"
     ]
    },
    {
     "name": "stdout",
     "output_type": "stream",
     "text": [
      "INFO:tensorflow:memory input None\n"
     ]
    },
    {
     "name": "stderr",
     "output_type": "stream",
     "text": [
      "INFO:tensorflow:memory input None\n"
     ]
    },
    {
     "name": "stdout",
     "output_type": "stream",
     "text": [
      "INFO:tensorflow:Use float type <dtype: 'float32'>\n"
     ]
    },
    {
     "name": "stderr",
     "output_type": "stream",
     "text": [
      "INFO:tensorflow:Use float type <dtype: 'float32'>\n",
      "Converting texts to features: 100%|█████████████████████████████████████████████████████| 1/1 [00:00<00:00, 253.10it/s]\n"
     ]
    },
    {
     "name": "stdout",
     "output_type": "stream",
     "text": [
      "INFO:tensorflow:memory input None\n"
     ]
    },
    {
     "name": "stderr",
     "output_type": "stream",
     "text": [
      "INFO:tensorflow:memory input None\n"
     ]
    },
    {
     "name": "stdout",
     "output_type": "stream",
     "text": [
      "INFO:tensorflow:Use float type <dtype: 'float32'>\n"
     ]
    },
    {
     "name": "stderr",
     "output_type": "stream",
     "text": [
      "INFO:tensorflow:Use float type <dtype: 'float32'>\n",
      "Converting texts to features: 100%|████████████████████████████████████████████████████| 1/1 [00:00<00:00, 1047.27it/s]\n"
     ]
    },
    {
     "name": "stdout",
     "output_type": "stream",
     "text": [
      "INFO:tensorflow:memory input None\n"
     ]
    },
    {
     "name": "stderr",
     "output_type": "stream",
     "text": [
      "INFO:tensorflow:memory input None\n"
     ]
    },
    {
     "name": "stdout",
     "output_type": "stream",
     "text": [
      "INFO:tensorflow:Use float type <dtype: 'float32'>\n"
     ]
    },
    {
     "name": "stderr",
     "output_type": "stream",
     "text": [
      "INFO:tensorflow:Use float type <dtype: 'float32'>\n"
     ]
    }
   ],
   "source": [
    "li_ar_dist=[]\n",
    "for i in range(len(li)):\n",
    "    st=en.encode(li[i])\n",
    "    \n",
    "    dist_easy=np.linalg.norm(st-easy, axis=-1)\n",
    "    \n",
    "    li_ar_dist.append(dist_easy)\n"
   ]
  },
  {
   "cell_type": "code",
   "execution_count": 146,
   "metadata": {},
   "outputs": [],
   "source": [
    "li_2d=[]\n",
    "for i in li_ar_dist:\n",
    "    li_2d.append(i.ravel())"
   ]
  },
  {
   "cell_type": "code",
   "execution_count": 149,
   "metadata": {},
   "outputs": [
    {
     "name": "stdout",
     "output_type": "stream",
     "text": [
      "[1 1 0 0 0]\n"
     ]
    }
   ],
   "source": [
    "import numpy as np\n",
    "import matplotlib.pyplot as plt\n",
    "from sklearn.cluster import KMeans\n",
    "\n",
    "\n",
    "x = np.array(li_2d)\n",
    "\n",
    "kmeans = KMeans(n_clusters=2, random_state=0).fit(x)\n",
    "\n",
    "centroids = kmeans.cluster_centers_\n",
    "\n",
    "labels = kmeans.labels_\n",
    "\n",
    "\n",
    "print(labels)\n",
    "\n"
   ]
  },
  {
   "cell_type": "code",
   "execution_count": 139,
   "metadata": {},
   "outputs": [
    {
     "name": "stdout",
     "output_type": "stream",
     "text": [
      "['clearly explained']\n",
      "['I was able to understand concept in detail']\n",
      "['Thank you for making it so simple']\n",
      "['basics were not covered']\n",
      "['I found it difficult to understand']\n"
     ]
    }
   ],
   "source": [
    "for i in li:\n",
    "    print(i)"
   ]
  },
  {
   "cell_type": "code",
   "execution_count": null,
   "metadata": {},
   "outputs": [],
   "source": []
  },
  {
   "cell_type": "code",
   "execution_count": null,
   "metadata": {},
   "outputs": [],
   "source": []
  }
 ],
 "metadata": {
  "kernelspec": {
   "display_name": "Python 3",
   "language": "python",
   "name": "python3"
  },
  "language_info": {
   "codemirror_mode": {
    "name": "ipython",
    "version": 3
   },
   "file_extension": ".py",
   "mimetype": "text/x-python",
   "name": "python",
   "nbconvert_exporter": "python",
   "pygments_lexer": "ipython3",
   "version": "3.7.3"
  }
 },
 "nbformat": 4,
 "nbformat_minor": 2
}
